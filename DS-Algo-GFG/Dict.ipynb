{
 "cells": [
  {
   "cell_type": "markdown",
   "id": "50b58b3c",
   "metadata": {},
   "source": [
    "This notebook is meant for dictionary problems."
   ]
  }
 ],
 "metadata": {
  "language_info": {
   "name": "python"
  }
 },
 "nbformat": 4,
 "nbformat_minor": 5
}
