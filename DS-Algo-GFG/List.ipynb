{
 "cells": [
  {
   "cell_type": "markdown",
   "id": "546d799a",
   "metadata": {},
   "source": [
    "Reverse a list"
   ]
  },
  {
   "cell_type": "code",
   "execution_count": 2,
   "id": "b731d399",
   "metadata": {},
   "outputs": [],
   "source": [
    "def reverse(lst):\n",
    " return lst[::-1]"
   ]
  },
  {
   "cell_type": "code",
   "execution_count": 4,
   "id": "0e29fe0f",
   "metadata": {},
   "outputs": [
    {
     "name": "stdout",
     "output_type": "stream",
     "text": [
      "[3, 2, 1]\n"
     ]
    }
   ],
   "source": [
    "print(reverse([1,2,3]))"
   ]
  },
  {
   "cell_type": "markdown",
   "id": "112d6ad4",
   "metadata": {},
   "source": [
    "Remove Duplicates from a list"
   ]
  },
  {
   "cell_type": "code",
   "execution_count": 5,
   "id": "bd612d7a",
   "metadata": {},
   "outputs": [],
   "source": [
    "# This function removes duplicates from a list\n",
    "def RemoveDuplicates(lst):\n",
    "    return list(set(lst))"
   ]
  },
  {
   "cell_type": "code",
   "execution_count": 6,
   "id": "beb9b9ec",
   "metadata": {},
   "outputs": [
    {
     "data": {
      "text/plain": [
       "[1, 2, 3, 4, 5, 6, 7, 8, 9, 10]"
      ]
     },
     "execution_count": 6,
     "metadata": {},
     "output_type": "execute_result"
    }
   ],
   "source": [
    "RemoveDuplicates([1,2,3,4,5,6,7,8,9,10,1,2,3,4,5])"
   ]
  },
  {
   "cell_type": "markdown",
   "id": "5b3f7c6e",
   "metadata": {},
   "source": [
    "Flatten Nested List\n"
   ]
  },
  {
   "cell_type": "code",
   "execution_count": 7,
   "id": "3101815b",
   "metadata": {},
   "outputs": [],
   "source": [
    "def flatten(nested_list):\n",
    "    flat_list = []\n",
    "    for item in nested_list:\n",
    "        if isinstance(item, list):\n",
    "            # If it's a list, flatten it first\n",
    "            flat_list.extend(flatten(item))\n",
    "        else:\n",
    "            # If it's not a list, just add it\n",
    "            flat_list.append(item)\n",
    "    return flat_list"
   ]
  },
  {
   "cell_type": "code",
   "execution_count": 9,
   "id": "72ce7711",
   "metadata": {},
   "outputs": [
    {
     "name": "stdout",
     "output_type": "stream",
     "text": [
      "[1, 2, 3, 4, 5, 6]\n"
     ]
    }
   ],
   "source": [
    "nested_lst = [1, [2, [3, 4], 5], 6]\n",
    "flat_lst = flatten(nested_lst)\n",
    "print(flat_lst) "
   ]
  },
  {
   "cell_type": "code",
   "execution_count": 10,
   "id": "ce21d265",
   "metadata": {},
   "outputs": [
    {
     "name": "stdout",
     "output_type": "stream",
     "text": [
      "[3, 4]\n"
     ]
    }
   ],
   "source": [
    "def intersection(lst1, lst2):\n",
    "    return list(set(lst1) & set(lst2))\n",
    "print(intersection([1, 2, 3, 4], [3, 4, 5, 6])) # Output: [3, 4]"
   ]
  },
  {
   "cell_type": "code",
   "execution_count": 11,
   "id": "d6715bda",
   "metadata": {},
   "outputs": [
    {
     "name": "stdout",
     "output_type": "stream",
     "text": [
      "[3, 4, 5, 1, 2]\n"
     ]
    }
   ],
   "source": [
    "def rotate_list(lst, n):\n",
    "    return lst[n:] + lst[:n]\n",
    "\n",
    "lst = [1, 2, 3, 4, 5]\n",
    "rotated_lst = rotate_list(lst, 2)\n",
    "print(rotated_lst)"
   ]
  },
  {
   "cell_type": "code",
   "execution_count": null,
   "id": "6bddc726",
   "metadata": {},
   "outputs": [],
   "source": [
    "def permutations(lst):\n",
    "    if len(lst) == 1:\n",
    "        return [lst]\n",
    "    perm_list = []\n",
    "    for i in range(len(lst)):\n",
    "        for perm in permutations(lst[:i] + lst[i+1:]):\n",
    "            perm_list.append([lst[i]] + perm)\n",
    "    return perm_list\n",
    "\n",
    "lst = [1, 2, 3]\n",
    "perm_list = permutations(lst)\n",
    "print(perm_list)"
   ]
  }
 ],
 "metadata": {
  "kernelspec": {
   "display_name": "base",
   "language": "python",
   "name": "python3"
  },
  "language_info": {
   "codemirror_mode": {
    "name": "ipython",
    "version": 3
   },
   "file_extension": ".py",
   "mimetype": "text/x-python",
   "name": "python",
   "nbconvert_exporter": "python",
   "pygments_lexer": "ipython3",
   "version": "3.12.4"
  }
 },
 "nbformat": 4,
 "nbformat_minor": 5
}
