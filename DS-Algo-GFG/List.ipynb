{
 "cells": [
  {
   "cell_type": "markdown",
   "id": "546d799a",
   "metadata": {},
   "source": [
    "Reverse a list"
   ]
  },
  {
   "cell_type": "code",
   "execution_count": 2,
   "id": "b731d399",
   "metadata": {},
   "outputs": [],
   "source": [
    "def reverse(lst):\n",
    " return lst[::-1]"
   ]
  },
  {
   "cell_type": "code",
   "execution_count": 4,
   "id": "0e29fe0f",
   "metadata": {},
   "outputs": [
    {
     "name": "stdout",
     "output_type": "stream",
     "text": [
      "[3, 2, 1]\n"
     ]
    }
   ],
   "source": [
    "print(reverse([1,2,3]))"
   ]
  },
  {
   "cell_type": "markdown",
   "id": "112d6ad4",
   "metadata": {},
   "source": [
    "Remove Duplicates from a list"
   ]
  },
  {
   "cell_type": "code",
   "execution_count": 5,
   "id": "bd612d7a",
   "metadata": {},
   "outputs": [],
   "source": [
    "# This function removes duplicates from a list\n",
    "def RemoveDuplicates(lst):\n",
    "    return list(set(lst))"
   ]
  },
  {
   "cell_type": "code",
   "execution_count": 6,
   "id": "beb9b9ec",
   "metadata": {},
   "outputs": [
    {
     "data": {
      "text/plain": [
       "[1, 2, 3, 4, 5, 6, 7, 8, 9, 10]"
      ]
     },
     "execution_count": 6,
     "metadata": {},
     "output_type": "execute_result"
    }
   ],
   "source": [
    "RemoveDuplicates([1,2,3,4,5,6,7,8,9,10,1,2,3,4,5])"
   ]
  },
  {
   "cell_type": "code",
   "execution_count": null,
   "id": "5b635022",
   "metadata": {},
   "outputs": [],
   "source": []
  }
 ],
 "metadata": {
  "kernelspec": {
   "display_name": "base",
   "language": "python",
   "name": "python3"
  },
  "language_info": {
   "codemirror_mode": {
    "name": "ipython",
    "version": 3
   },
   "file_extension": ".py",
   "mimetype": "text/x-python",
   "name": "python",
   "nbconvert_exporter": "python",
   "pygments_lexer": "ipython3",
   "version": "3.12.4"
  }
 },
 "nbformat": 4,
 "nbformat_minor": 5
}
